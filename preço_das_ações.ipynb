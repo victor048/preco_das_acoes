{
  "nbformat": 4,
  "nbformat_minor": 0,
  "metadata": {
    "colab": {
      "name": "preço_das_ações.ipynb",
      "provenance": [],
      "authorship_tag": "ABX9TyOqcLOsjlFVpITuErxgKh0w",
      "include_colab_link": true
    },
    "kernelspec": {
      "name": "python3",
      "display_name": "Python 3"
    },
    "language_info": {
      "name": "python"
    }
  },
  "cells": [
    {
      "cell_type": "markdown",
      "metadata": {
        "id": "view-in-github",
        "colab_type": "text"
      },
      "source": [
        "<a href=\"https://colab.research.google.com/github/victor048/preco_das_acoes/blob/main/pre%C3%A7o_das_a%C3%A7%C3%B5es.ipynb\" target=\"_parent\"><img src=\"https://colab.research.google.com/assets/colab-badge.svg\" alt=\"Open In Colab\"/></a>"
      ]
    },
    {
      "cell_type": "markdown",
      "source": [
        "## Descrição: \n",
        "### Este programa usa uma rede neural recorrente chamada Long Short Term Memory (LSTM).\n",
        "### para prever o fechamento do preço das ações da corporação (Apple Inc), usando os ultimos 60 dias."
      ],
      "metadata": {
        "id": "j8qiQL3lKxWO"
      }
    },
    {
      "cell_type": "code",
      "source": [
        "# import das Bibliotecas\n",
        "import math\n",
        "import yfinance as yf\n",
        "import pandas_datareader as web\n",
        "import numpy as np\n",
        "import pandas as pd\n",
        "from keras.models import Sequential\n",
        "from keras.layers import Dense, LSTM\n",
        "from sklearn.preprocessing import MinMaxScaler\n",
        "import matplotlib.pyplot as plt\n",
        "plt.style.use('fivethirtyeight')"
      ],
      "metadata": {
        "id": "rgww8JFie8_D"
      },
      "execution_count": null,
      "outputs": []
    },
    {
      "cell_type": "code",
      "source": [
        "# pip install yfinance"
      ],
      "metadata": {
        "id": "iW4gjSykSr3t"
      },
      "execution_count": null,
      "outputs": []
    },
    {
      "cell_type": "markdown",
      "source": [
        "#### Obtendo as cotações da ações"
      ],
      "metadata": {
        "id": "671xWQaHTryG"
      }
    },
    {
      "cell_type": "code",
      "source": [
        "df = yf.download('AAPL', data_source='yahoo', start='2017-03-10', end='2022-03-10')\n",
        "# tentei usar 'web.datareader' para obter os dados da web mas deu erro, então usei yfinance"
      ],
      "metadata": {
        "colab": {
          "base_uri": "https://localhost:8080/"
        },
        "id": "WeavKifcfQRn",
        "outputId": "c1ffeffa-9265-40ea-fe03-2c1575aee0f0"
      },
      "execution_count": null,
      "outputs": [
        {
          "output_type": "stream",
          "name": "stdout",
          "text": [
            "\r[*********************100%***********************]  1 of 1 completed\n"
          ]
        }
      ]
    },
    {
      "cell_type": "code",
      "source": [
        "display(df)"
      ],
      "metadata": {
        "id": "HwfAvRhffTXQ",
        "colab": {
          "base_uri": "https://localhost:8080/",
          "height": 455
        },
        "outputId": "715bb8a8-da5b-459e-c78b-ffbc0216e223"
      },
      "execution_count": null,
      "outputs": [
        {
          "output_type": "display_data",
          "data": {
            "text/html": [
              "\n",
              "  <div id=\"df-dbe4fa4e-27d9-411f-aa45-fc4756323c08\">\n",
              "    <div class=\"colab-df-container\">\n",
              "      <div>\n",
              "<style scoped>\n",
              "    .dataframe tbody tr th:only-of-type {\n",
              "        vertical-align: middle;\n",
              "    }\n",
              "\n",
              "    .dataframe tbody tr th {\n",
              "        vertical-align: top;\n",
              "    }\n",
              "\n",
              "    .dataframe thead th {\n",
              "        text-align: right;\n",
              "    }\n",
              "</style>\n",
              "<table border=\"1\" class=\"dataframe\">\n",
              "  <thead>\n",
              "    <tr style=\"text-align: right;\">\n",
              "      <th></th>\n",
              "      <th>Open</th>\n",
              "      <th>High</th>\n",
              "      <th>Low</th>\n",
              "      <th>Close</th>\n",
              "      <th>Adj Close</th>\n",
              "      <th>Volume</th>\n",
              "    </tr>\n",
              "    <tr>\n",
              "      <th>Date</th>\n",
              "      <th></th>\n",
              "      <th></th>\n",
              "      <th></th>\n",
              "      <th></th>\n",
              "      <th></th>\n",
              "      <th></th>\n",
              "    </tr>\n",
              "  </thead>\n",
              "  <tbody>\n",
              "    <tr>\n",
              "      <th>2017-03-10</th>\n",
              "      <td>34.812500</td>\n",
              "      <td>34.840000</td>\n",
              "      <td>34.660000</td>\n",
              "      <td>34.785000</td>\n",
              "      <td>32.842609</td>\n",
              "      <td>78451200</td>\n",
              "    </tr>\n",
              "    <tr>\n",
              "      <th>2017-03-13</th>\n",
              "      <td>34.712502</td>\n",
              "      <td>34.857498</td>\n",
              "      <td>34.705002</td>\n",
              "      <td>34.799999</td>\n",
              "      <td>32.856762</td>\n",
              "      <td>69686800</td>\n",
              "    </tr>\n",
              "    <tr>\n",
              "      <th>2017-03-14</th>\n",
              "      <td>34.825001</td>\n",
              "      <td>34.912498</td>\n",
              "      <td>34.709999</td>\n",
              "      <td>34.747501</td>\n",
              "      <td>32.807198</td>\n",
              "      <td>61236400</td>\n",
              "    </tr>\n",
              "    <tr>\n",
              "      <th>2017-03-15</th>\n",
              "      <td>34.852501</td>\n",
              "      <td>35.187500</td>\n",
              "      <td>34.757500</td>\n",
              "      <td>35.115002</td>\n",
              "      <td>33.154179</td>\n",
              "      <td>102767200</td>\n",
              "    </tr>\n",
              "    <tr>\n",
              "      <th>2017-03-16</th>\n",
              "      <td>35.180000</td>\n",
              "      <td>35.255001</td>\n",
              "      <td>35.064999</td>\n",
              "      <td>35.172501</td>\n",
              "      <td>33.208462</td>\n",
              "      <td>76928000</td>\n",
              "    </tr>\n",
              "    <tr>\n",
              "      <th>...</th>\n",
              "      <td>...</td>\n",
              "      <td>...</td>\n",
              "      <td>...</td>\n",
              "      <td>...</td>\n",
              "      <td>...</td>\n",
              "      <td>...</td>\n",
              "    </tr>\n",
              "    <tr>\n",
              "      <th>2022-03-02</th>\n",
              "      <td>164.389999</td>\n",
              "      <td>167.360001</td>\n",
              "      <td>162.949997</td>\n",
              "      <td>166.559998</td>\n",
              "      <td>166.559998</td>\n",
              "      <td>79724800</td>\n",
              "    </tr>\n",
              "    <tr>\n",
              "      <th>2022-03-03</th>\n",
              "      <td>168.470001</td>\n",
              "      <td>168.910004</td>\n",
              "      <td>165.550003</td>\n",
              "      <td>166.229996</td>\n",
              "      <td>166.229996</td>\n",
              "      <td>76678400</td>\n",
              "    </tr>\n",
              "    <tr>\n",
              "      <th>2022-03-04</th>\n",
              "      <td>164.490005</td>\n",
              "      <td>165.550003</td>\n",
              "      <td>162.100006</td>\n",
              "      <td>163.169998</td>\n",
              "      <td>163.169998</td>\n",
              "      <td>83737200</td>\n",
              "    </tr>\n",
              "    <tr>\n",
              "      <th>2022-03-07</th>\n",
              "      <td>163.360001</td>\n",
              "      <td>165.020004</td>\n",
              "      <td>159.039993</td>\n",
              "      <td>159.300003</td>\n",
              "      <td>159.300003</td>\n",
              "      <td>96213500</td>\n",
              "    </tr>\n",
              "    <tr>\n",
              "      <th>2022-03-09</th>\n",
              "      <td>161.475006</td>\n",
              "      <td>161.619995</td>\n",
              "      <td>159.410004</td>\n",
              "      <td>161.259995</td>\n",
              "      <td>161.259995</td>\n",
              "      <td>22597492</td>\n",
              "    </tr>\n",
              "  </tbody>\n",
              "</table>\n",
              "<p>1258 rows × 6 columns</p>\n",
              "</div>\n",
              "      <button class=\"colab-df-convert\" onclick=\"convertToInteractive('df-dbe4fa4e-27d9-411f-aa45-fc4756323c08')\"\n",
              "              title=\"Convert this dataframe to an interactive table.\"\n",
              "              style=\"display:none;\">\n",
              "        \n",
              "  <svg xmlns=\"http://www.w3.org/2000/svg\" height=\"24px\"viewBox=\"0 0 24 24\"\n",
              "       width=\"24px\">\n",
              "    <path d=\"M0 0h24v24H0V0z\" fill=\"none\"/>\n",
              "    <path d=\"M18.56 5.44l.94 2.06.94-2.06 2.06-.94-2.06-.94-.94-2.06-.94 2.06-2.06.94zm-11 1L8.5 8.5l.94-2.06 2.06-.94-2.06-.94L8.5 2.5l-.94 2.06-2.06.94zm10 10l.94 2.06.94-2.06 2.06-.94-2.06-.94-.94-2.06-.94 2.06-2.06.94z\"/><path d=\"M17.41 7.96l-1.37-1.37c-.4-.4-.92-.59-1.43-.59-.52 0-1.04.2-1.43.59L10.3 9.45l-7.72 7.72c-.78.78-.78 2.05 0 2.83L4 21.41c.39.39.9.59 1.41.59.51 0 1.02-.2 1.41-.59l7.78-7.78 2.81-2.81c.8-.78.8-2.07 0-2.86zM5.41 20L4 18.59l7.72-7.72 1.47 1.35L5.41 20z\"/>\n",
              "  </svg>\n",
              "      </button>\n",
              "      \n",
              "  <style>\n",
              "    .colab-df-container {\n",
              "      display:flex;\n",
              "      flex-wrap:wrap;\n",
              "      gap: 12px;\n",
              "    }\n",
              "\n",
              "    .colab-df-convert {\n",
              "      background-color: #E8F0FE;\n",
              "      border: none;\n",
              "      border-radius: 50%;\n",
              "      cursor: pointer;\n",
              "      display: none;\n",
              "      fill: #1967D2;\n",
              "      height: 32px;\n",
              "      padding: 0 0 0 0;\n",
              "      width: 32px;\n",
              "    }\n",
              "\n",
              "    .colab-df-convert:hover {\n",
              "      background-color: #E2EBFA;\n",
              "      box-shadow: 0px 1px 2px rgba(60, 64, 67, 0.3), 0px 1px 3px 1px rgba(60, 64, 67, 0.15);\n",
              "      fill: #174EA6;\n",
              "    }\n",
              "\n",
              "    [theme=dark] .colab-df-convert {\n",
              "      background-color: #3B4455;\n",
              "      fill: #D2E3FC;\n",
              "    }\n",
              "\n",
              "    [theme=dark] .colab-df-convert:hover {\n",
              "      background-color: #434B5C;\n",
              "      box-shadow: 0px 1px 3px 1px rgba(0, 0, 0, 0.15);\n",
              "      filter: drop-shadow(0px 1px 2px rgba(0, 0, 0, 0.3));\n",
              "      fill: #FFFFFF;\n",
              "    }\n",
              "  </style>\n",
              "\n",
              "      <script>\n",
              "        const buttonEl =\n",
              "          document.querySelector('#df-dbe4fa4e-27d9-411f-aa45-fc4756323c08 button.colab-df-convert');\n",
              "        buttonEl.style.display =\n",
              "          google.colab.kernel.accessAllowed ? 'block' : 'none';\n",
              "\n",
              "        async function convertToInteractive(key) {\n",
              "          const element = document.querySelector('#df-dbe4fa4e-27d9-411f-aa45-fc4756323c08');\n",
              "          const dataTable =\n",
              "            await google.colab.kernel.invokeFunction('convertToInteractive',\n",
              "                                                     [key], {});\n",
              "          if (!dataTable) return;\n",
              "\n",
              "          const docLinkHtml = 'Like what you see? Visit the ' +\n",
              "            '<a target=\"_blank\" href=https://colab.research.google.com/notebooks/data_table.ipynb>data table notebook</a>'\n",
              "            + ' to learn more about interactive tables.';\n",
              "          element.innerHTML = '';\n",
              "          dataTable['output_type'] = 'display_data';\n",
              "          await google.colab.output.renderOutput(dataTable, element);\n",
              "          const docLink = document.createElement('div');\n",
              "          docLink.innerHTML = docLinkHtml;\n",
              "          element.appendChild(docLink);\n",
              "        }\n",
              "      </script>\n",
              "    </div>\n",
              "  </div>\n",
              "  "
            ],
            "text/plain": [
              "                  Open        High         Low       Close   Adj Close  \\\n",
              "Date                                                                     \n",
              "2017-03-10   34.812500   34.840000   34.660000   34.785000   32.842609   \n",
              "2017-03-13   34.712502   34.857498   34.705002   34.799999   32.856762   \n",
              "2017-03-14   34.825001   34.912498   34.709999   34.747501   32.807198   \n",
              "2017-03-15   34.852501   35.187500   34.757500   35.115002   33.154179   \n",
              "2017-03-16   35.180000   35.255001   35.064999   35.172501   33.208462   \n",
              "...                ...         ...         ...         ...         ...   \n",
              "2022-03-02  164.389999  167.360001  162.949997  166.559998  166.559998   \n",
              "2022-03-03  168.470001  168.910004  165.550003  166.229996  166.229996   \n",
              "2022-03-04  164.490005  165.550003  162.100006  163.169998  163.169998   \n",
              "2022-03-07  163.360001  165.020004  159.039993  159.300003  159.300003   \n",
              "2022-03-09  161.475006  161.619995  159.410004  161.259995  161.259995   \n",
              "\n",
              "               Volume  \n",
              "Date                   \n",
              "2017-03-10   78451200  \n",
              "2017-03-13   69686800  \n",
              "2017-03-14   61236400  \n",
              "2017-03-15  102767200  \n",
              "2017-03-16   76928000  \n",
              "...               ...  \n",
              "2022-03-02   79724800  \n",
              "2022-03-03   76678400  \n",
              "2022-03-04   83737200  \n",
              "2022-03-07   96213500  \n",
              "2022-03-09   22597492  \n",
              "\n",
              "[1258 rows x 6 columns]"
            ]
          },
          "metadata": {}
        }
      ]
    },
    {
      "cell_type": "code",
      "source": [
        "# visualizando preço de fechamento\n",
        "plt.figure(figsize=(16, 8))\n",
        "plt.title('Historico de preços')\n",
        "plt.plot(df['Close'])\n",
        "plt.xlabel('Data', fontsize=18)\n",
        "plt.ylabel('Preço USD ($)', fontsize=18)\n",
        "plt.show()"
      ],
      "metadata": {
        "colab": {
          "base_uri": "https://localhost:8080/",
          "height": 558
        },
        "id": "NLdVzfUzTLzm",
        "outputId": "a6ccba8e-fdf1-4dcc-e967-1d53b39d2fae"
      },
      "execution_count": null,
      "outputs": [
        {
          "output_type": "display_data",
          "data": {
            "image/png": "[encoded data removed]",
            "text/plain": [
              "<Figure size 1152x576 with 1 Axes>"
            ]
          },
          "metadata": {}
        }
      ]
    },
    {
      "cell_type": "code",
      "source": [
        "# Criando um novo dataframe com somente a '['Close']\n",
        "data = df.filter(['Close'])\n",
        "# Converte o dataframe para um Numpy array\n",
        "dataset = data.values\n",
        "# Eu quero calcular o numero de linhas para treinar nosso modelo\n",
        "training_data_len = math.ceil( len(dataset) * .8 )\n",
        "training_data_len"
      ],
      "metadata": {
        "colab": {
          "base_uri": "https://localhost:8080/"
        },
        "id": "bNhCWnvoWsxo",
        "outputId": "e95aa4df-b700-4bf8-d694-e42c2a20a132"
      },
      "execution_count": null,
      "outputs": [
        {
          "output_type": "execute_result",
          "data": {
            "text/plain": [
              "1007"
            ]
          },
          "metadata": {},
          "execution_count": 24
        }
      ]
    },
    {
      "cell_type": "code",
      "source": [
        "# transforma 1007 dados em 0, 1\n",
        "scaler = MinMaxScaler(feature_range=(0, 1))\n",
        "scaled_data = scaler.fit_transform(dataset)"
      ],
      "metadata": {
        "id": "xZ1UxvYOY5B4"
      },
      "execution_count": null,
      "outputs": []
    },
    {
      "cell_type": "code",
      "source": [
        "train_data = scaled_data[0:training_data_len, :]\n",
        "# dividindo os dados em conjunto de dados de train x e y\n",
        "x_train = []\n",
        "y_train = []\n",
        "\n",
        "for i in range(60, len(train_data)):\n",
        "  x_train.append(train_data[i-60:i, 0])\n",
        "  y_train.append(train_data[i, 0])\n",
        "  if i <= 60:\n",
        "    print(x_train)\n",
        "    print(y_train)\n",
        "    print()"
      ],
      "metadata": {
        "colab": {
          "base_uri": "https://localhost:8080/"
        },
        "id": "_GCsdbcab8iH",
        "outputId": "27343517-187b-4dee-dba9-509132c0c907"
      },
      "execution_count": null,
      "outputs": [
        {
          "output_type": "stream",
          "name": "stdout",
          "text": [
            "[array([0.00025464, 0.00035649, 0.        , 0.00249555, 0.002886  ,\n",
            "       0.00169765, 0.00419319, 0.00144299, 0.00412527, 0.00327645,\n",
            "       0.00280111, 0.00320856, 0.00816569, 0.00870892, 0.00838636,\n",
            "       0.00792802, 0.00799591, 0.00981241, 0.00853917, 0.00792802,\n",
            "       0.00738476, 0.00709616, 0.00448179, 0.00477039, 0.00349715,\n",
            "       0.00482132, 0.00375179, 0.002869  , 0.00585688, 0.00556829,\n",
            "       0.00789406, 0.00940496, 0.00796195, 0.00814869, 0.00791102,\n",
            "       0.01288515, 0.01446395, 0.01370001, 0.01280026, 0.01692556,\n",
            "       0.02380102, 0.02546473, 0.02422543, 0.02539681, 0.02904677,\n",
            "       0.0283677 , 0.02797725, 0.01911552, 0.02300312, 0.02388591,\n",
            "       0.02546473, 0.02514218, 0.02436125, 0.025261  , 0.02481962,\n",
            "       0.02492147, 0.02337661, 0.02408962, 0.02794329, 0.02536285])]\n",
            "[0.026245636492549157]\n",
            "\n"
          ]
        }
      ]
    },
    {
      "cell_type": "code",
      "source": [
        "# Convertendo x_train e y_train para numpy arrays\n",
        "x_train, y_train = np.array(x_train), np.array(y_train)"
      ],
      "metadata": {
        "id": "yADDDt9ngqkY"
      },
      "execution_count": null,
      "outputs": []
    },
    {
      "cell_type": "code",
      "source": [
        "#Reshape \n",
        "x_train = np.reshape(x_train, (x_train.shape[0], x_train.shape[1], 1))\n",
        "x_train.shape"
      ],
      "metadata": {
        "colab": {
          "base_uri": "https://localhost:8080/"
        },
        "id": "Dd08UPWBiH5X",
        "outputId": "5eebf408-12ea-400d-b4c2-c1712bcffdf9"
      },
      "execution_count": null,
      "outputs": [
        {
          "output_type": "execute_result",
          "data": {
            "text/plain": [
              "(947, 60, 1)"
            ]
          },
          "metadata": {},
          "execution_count": 34
        }
      ]
    },
    {
      "cell_type": "code",
      "source": [
        "# contruindo o modelo LSTM\n",
        "model = Sequential()\n",
        "model.add(LSTM(50, return_sequences=True, input_shape=(x_train.shape[1], 1)))\n",
        "model.add(LSTM(50, return_sequences= False))\n",
        "model.add(Dense(25))\n",
        "model.add(Dense(1))"
      ],
      "metadata": {
        "id": "lnUEesTpi9y2"
      },
      "execution_count": null,
      "outputs": []
    },
    {
      "cell_type": "code",
      "source": [
        "model.compile(optimizer='adam', loss='mean_squared_error')"
      ],
      "metadata": {
        "id": "kYEvVxM5kVlA"
      },
      "execution_count": null,
      "outputs": []
    },
    {
      "cell_type": "code",
      "source": [
        "# Treinando modelo\n",
        "model.fit(x_train, y_train, batch_size=1, epochs=1)"
      ],
      "metadata": {
        "colab": {
          "base_uri": "https://localhost:8080/"
        },
        "id": "3ix4EEnkk-BB",
        "outputId": "d53de9e1-f5be-4976-a3a3-82ff49ff4152"
      },
      "execution_count": null,
      "outputs": [
        {
          "output_type": "stream",
          "name": "stdout",
          "text": [
            "947/947 [==============================] - 28s 25ms/step - loss: 0.0014\n"
          ]
        },
        {
          "output_type": "execute_result",
          "data": {
            "text/plain": [
              "<keras.callbacks.History at 0x7fca530d3450>"
            ]
          },
          "metadata": {},
          "execution_count": 38
        }
      ]
    },
    {
      "cell_type": "code",
      "source": [
        "# criando o conjunto de teste\n",
        "test_data = scaled_data[training_data_len - 60: , :]\n",
        "\n",
        "x_test = []\n",
        "y_test = dataset[training_data_len:, :]\n",
        "for i in range(60, len (test_data)):\n",
        "  x_test.append(test_data[i-60:i, 0])"
      ],
      "metadata": {
        "id": "D5tW9YkZlRN6"
      },
      "execution_count": null,
      "outputs": []
    },
    {
      "cell_type": "code",
      "source": [
        "# convertendo para nb.array\n",
        "x_test = np.array(x_test)"
      ],
      "metadata": {
        "id": "Rr2QhsiFnUJ3"
      },
      "execution_count": null,
      "outputs": []
    },
    {
      "cell_type": "code",
      "source": [
        "x_test = np.reshape(x_test, (x_test.shape[0], x_test.shape[1], 1))"
      ],
      "metadata": {
        "id": "hTSesUqkn9EQ"
      },
      "execution_count": null,
      "outputs": []
    },
    {
      "cell_type": "code",
      "source": [
        "# Obter os modelos prevendo o preço dos valores\n",
        "predictions = model.predict(x_test)\n",
        "predictions = scaler.inverse_transform(predictions)"
      ],
      "metadata": {
        "id": "l_uGNDHjoTOo"
      },
      "execution_count": null,
      "outputs": []
    },
    {
      "cell_type": "code",
      "source": [
        "# Obtendo a raiz do erro quadratico médio ou nosso RMSE\n",
        "rmse = np.sqrt( np.mean(predictions - y_test)**2)\n",
        "rmse "
      ],
      "metadata": {
        "colab": {
          "base_uri": "https://localhost:8080/"
        },
        "id": "HGocwS56pNL1",
        "outputId": "fb0928f9-bd1e-4b92-f34f-795b95f50174"
      },
      "execution_count": null,
      "outputs": [
        {
          "output_type": "execute_result",
          "data": {
            "text/plain": [
              "1.6019796546236926"
            ]
          },
          "metadata": {},
          "execution_count": 43
        }
      ]
    },
    {
      "cell_type": "code",
      "source": [
        "train = data[:training_data_len]\n",
        "valid = data[training_data_len:]\n",
        "valid['Predictions'] = predictions\n",
        "#Plot\n",
        "plt.figure(figsize=(16,8))\n",
        "plt.title('Modelo')\n",
        "plt.xlabel('Data', fontsize=18)\n",
        "plt.ylabel('Fechamento USD ($)',fontsize=18)\n",
        "plt.plot(train['Close'])\n",
        "plt.plot(valid[['Close', 'Predictions']])\n",
        "plt.legend(['Treino', 'val','Predictions'], loc='lower right')\n",
        "plt.show()"
      ],
      "metadata": {
        "colab": {
          "base_uri": "https://localhost:8080/",
          "height": 662
        },
        "id": "qj14BBkFqGRe",
        "outputId": "2fcdfe1f-87f5-4510-e0ca-d038de4e5839"
      },
      "execution_count": null,
      "outputs": [
        {
          "output_type": "stream",
          "name": "stderr",
          "text": [
            "/usr/local/lib/python3.7/dist-packages/ipykernel_launcher.py:3: SettingWithCopyWarning: \n",
            "A value is trying to be set on a copy of a slice from a DataFrame.\n",
            "Try using .loc[row_indexer,col_indexer] = value instead\n",
            "\n",
            "See the caveats in the documentation: https://pandas.pydata.org/pandas-docs/stable/user_guide/indexing.html#returning-a-view-versus-a-copy\n",
            "  This is separate from the ipykernel package so we can avoid doing imports until\n"
          ]
        },
        {
          "output_type": "display_data",
          "data": {
            "image/png": "[encoded data removed]",
            "text/plain": [
              "<Figure size 1152x576 with 1 Axes>"
            ]
          },
          "metadata": {}
        }
      ]
    },
    {
      "cell_type": "code",
      "source": [
        "# certo vamos ver os preços reais(valid), e previstos\n",
        "valid"
      ],
      "metadata": {
        "colab": {
          "base_uri": "https://localhost:8080/",
          "height": 455
        },
        "id": "2ghTHJF6sdhJ",
        "outputId": "2c60617b-f2c4-4ed4-aa2f-07570adee921"
      },
      "execution_count": null,
      "outputs": [
        {
          "output_type": "execute_result",
          "data": {
            "text/html": [
              "\n",
              "  <div id=\"df-bd7d503a-ab3c-4ddf-b58f-f01861100b65\">\n",
              "    <div class=\"colab-df-container\">\n",
              "      <div>\n",
              "<style scoped>\n",
              "    .dataframe tbody tr th:only-of-type {\n",
              "        vertical-align: middle;\n",
              "    }\n",
              "\n",
              "    .dataframe tbody tr th {\n",
              "        vertical-align: top;\n",
              "    }\n",
              "\n",
              "    .dataframe thead th {\n",
              "        text-align: right;\n",
              "    }\n",
              "</style>\n",
              "<table border=\"1\" class=\"dataframe\">\n",
              "  <thead>\n",
              "    <tr style=\"text-align: right;\">\n",
              "      <th></th>\n",
              "      <th>Close</th>\n",
              "      <th>Predictions</th>\n",
              "    </tr>\n",
              "    <tr>\n",
              "      <th>Date</th>\n",
              "      <th></th>\n",
              "      <th></th>\n",
              "    </tr>\n",
              "  </thead>\n",
              "  <tbody>\n",
              "    <tr>\n",
              "      <th>2021-03-11</th>\n",
              "      <td>121.959999</td>\n",
              "      <td>125.267525</td>\n",
              "    </tr>\n",
              "    <tr>\n",
              "      <th>2021-03-12</th>\n",
              "      <td>121.029999</td>\n",
              "      <td>124.944099</td>\n",
              "    </tr>\n",
              "    <tr>\n",
              "      <th>2021-03-15</th>\n",
              "      <td>123.989998</td>\n",
              "      <td>124.728912</td>\n",
              "    </tr>\n",
              "    <tr>\n",
              "      <th>2021-03-16</th>\n",
              "      <td>125.570000</td>\n",
              "      <td>124.822937</td>\n",
              "    </tr>\n",
              "    <tr>\n",
              "      <th>2021-03-17</th>\n",
              "      <td>124.760002</td>\n",
              "      <td>125.204475</td>\n",
              "    </tr>\n",
              "    <tr>\n",
              "      <th>...</th>\n",
              "      <td>...</td>\n",
              "      <td>...</td>\n",
              "    </tr>\n",
              "    <tr>\n",
              "      <th>2022-03-02</th>\n",
              "      <td>166.559998</td>\n",
              "      <td>166.910172</td>\n",
              "    </tr>\n",
              "    <tr>\n",
              "      <th>2022-03-03</th>\n",
              "      <td>166.229996</td>\n",
              "      <td>166.649689</td>\n",
              "    </tr>\n",
              "    <tr>\n",
              "      <th>2022-03-04</th>\n",
              "      <td>163.169998</td>\n",
              "      <td>166.566452</td>\n",
              "    </tr>\n",
              "    <tr>\n",
              "      <th>2022-03-07</th>\n",
              "      <td>159.300003</td>\n",
              "      <td>166.370255</td>\n",
              "    </tr>\n",
              "    <tr>\n",
              "      <th>2022-03-09</th>\n",
              "      <td>161.259995</td>\n",
              "      <td>165.851196</td>\n",
              "    </tr>\n",
              "  </tbody>\n",
              "</table>\n",
              "<p>251 rows × 2 columns</p>\n",
              "</div>\n",
              "      <button class=\"colab-df-convert\" onclick=\"convertToInteractive('df-bd7d503a-ab3c-4ddf-b58f-f01861100b65')\"\n",
              "              title=\"Convert this dataframe to an interactive table.\"\n",
              "              style=\"display:none;\">\n",
              "        \n",
              "  <svg xmlns=\"http://www.w3.org/2000/svg\" height=\"24px\"viewBox=\"0 0 24 24\"\n",
              "       width=\"24px\">\n",
              "    <path d=\"M0 0h24v24H0V0z\" fill=\"none\"/>\n",
              "    <path d=\"M18.56 5.44l.94 2.06.94-2.06 2.06-.94-2.06-.94-.94-2.06-.94 2.06-2.06.94zm-11 1L8.5 8.5l.94-2.06 2.06-.94-2.06-.94L8.5 2.5l-.94 2.06-2.06.94zm10 10l.94 2.06.94-2.06 2.06-.94-2.06-.94-.94-2.06-.94 2.06-2.06.94z\"/><path d=\"M17.41 7.96l-1.37-1.37c-.4-.4-.92-.59-1.43-.59-.52 0-1.04.2-1.43.59L10.3 9.45l-7.72 7.72c-.78.78-.78 2.05 0 2.83L4 21.41c.39.39.9.59 1.41.59.51 0 1.02-.2 1.41-.59l7.78-7.78 2.81-2.81c.8-.78.8-2.07 0-2.86zM5.41 20L4 18.59l7.72-7.72 1.47 1.35L5.41 20z\"/>\n",
              "  </svg>\n",
              "      </button>\n",
              "      \n",
              "  <style>\n",
              "    .colab-df-container {\n",
              "      display:flex;\n",
              "      flex-wrap:wrap;\n",
              "      gap: 12px;\n",
              "    }\n",
              "\n",
              "    .colab-df-convert {\n",
              "      background-color: #E8F0FE;\n",
              "      border: none;\n",
              "      border-radius: 50%;\n",
              "      cursor: pointer;\n",
              "      display: none;\n",
              "      fill: #1967D2;\n",
              "      height: 32px;\n",
              "      padding: 0 0 0 0;\n",
              "      width: 32px;\n",
              "    }\n",
              "\n",
              "    .colab-df-convert:hover {\n",
              "      background-color: #E2EBFA;\n",
              "      box-shadow: 0px 1px 2px rgba(60, 64, 67, 0.3), 0px 1px 3px 1px rgba(60, 64, 67, 0.15);\n",
              "      fill: #174EA6;\n",
              "    }\n",
              "\n",
              "    [theme=dark] .colab-df-convert {\n",
              "      background-color: #3B4455;\n",
              "      fill: #D2E3FC;\n",
              "    }\n",
              "\n",
              "    [theme=dark] .colab-df-convert:hover {\n",
              "      background-color: #434B5C;\n",
              "      box-shadow: 0px 1px 3px 1px rgba(0, 0, 0, 0.15);\n",
              "      filter: drop-shadow(0px 1px 2px rgba(0, 0, 0, 0.3));\n",
              "      fill: #FFFFFF;\n",
              "    }\n",
              "  </style>\n",
              "\n",
              "      <script>\n",
              "        const buttonEl =\n",
              "          document.querySelector('#df-bd7d503a-ab3c-4ddf-b58f-f01861100b65 button.colab-df-convert');\n",
              "        buttonEl.style.display =\n",
              "          google.colab.kernel.accessAllowed ? 'block' : 'none';\n",
              "\n",
              "        async function convertToInteractive(key) {\n",
              "          const element = document.querySelector('#df-bd7d503a-ab3c-4ddf-b58f-f01861100b65');\n",
              "          const dataTable =\n",
              "            await google.colab.kernel.invokeFunction('convertToInteractive',\n",
              "                                                     [key], {});\n",
              "          if (!dataTable) return;\n",
              "\n",
              "          const docLinkHtml = 'Like what you see? Visit the ' +\n",
              "            '<a target=\"_blank\" href=https://colab.research.google.com/notebooks/data_table.ipynb>data table notebook</a>'\n",
              "            + ' to learn more about interactive tables.';\n",
              "          element.innerHTML = '';\n",
              "          dataTable['output_type'] = 'display_data';\n",
              "          await google.colab.output.renderOutput(dataTable, element);\n",
              "          const docLink = document.createElement('div');\n",
              "          docLink.innerHTML = docLinkHtml;\n",
              "          element.appendChild(docLink);\n",
              "        }\n",
              "      </script>\n",
              "    </div>\n",
              "  </div>\n",
              "  "
            ],
            "text/plain": [
              "                 Close  Predictions\n",
              "Date                               \n",
              "2021-03-11  121.959999   125.267525\n",
              "2021-03-12  121.029999   124.944099\n",
              "2021-03-15  123.989998   124.728912\n",
              "2021-03-16  125.570000   124.822937\n",
              "2021-03-17  124.760002   125.204475\n",
              "...                ...          ...\n",
              "2022-03-02  166.559998   166.910172\n",
              "2022-03-03  166.229996   166.649689\n",
              "2022-03-04  163.169998   166.566452\n",
              "2022-03-07  159.300003   166.370255\n",
              "2022-03-09  161.259995   165.851196\n",
              "\n",
              "[251 rows x 2 columns]"
            ]
          },
          "metadata": {},
          "execution_count": 46
        }
      ]
    },
    {
      "cell_type": "code",
      "source": [
        ""
      ],
      "metadata": {
        "id": "eGHK77t4tYIU"
      },
      "execution_count": null,
      "outputs": []
    }
  ]
}